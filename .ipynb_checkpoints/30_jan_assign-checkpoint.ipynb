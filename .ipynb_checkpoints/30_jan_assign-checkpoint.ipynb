{
 "cells": [
  {
   "cell_type": "markdown",
   "id": "eea71847-ce4e-4e66-a6bb-3cf8876f6d99",
   "metadata": {},
   "source": [
    "Ans_1."
   ]
  },
  {
   "cell_type": "code",
   "execution_count": 4,
   "id": "1341413e-7d3b-4a51-986e-7d3727b56432",
   "metadata": {},
   "outputs": [
    {
     "name": "stdin",
     "output_type": "stream",
     "text": [
      "Enter your marks in percentage and know your grades : 79\n"
     ]
    },
    {
     "name": "stdout",
     "output_type": "stream",
     "text": [
      "your grade is C\n"
     ]
    }
   ],
   "source": [
    "marks = int(input('Enter your marks in percentage and know your grades :'))\n",
    "prefix = 'your grade is '\n",
    "if marks > 100 or marks < 0:\n",
    "    print('invalid marks')\n",
    "elif marks>90:\n",
    "    print(prefix + 'A')\n",
    "elif marks<=90 and marks >80:\n",
    "    print(prefix + 'B')    \n",
    "elif marks<=80 and marks >=60:\n",
    "    print(prefix + 'C')\n",
    "else:\n",
    "    print(prefix + 'D')    "
   ]
  },
  {
   "cell_type": "markdown",
   "id": "5a1011de-2e4f-4ce0-ab29-22b43c5daa75",
   "metadata": {},
   "source": [
    "Ans_2."
   ]
  },
  {
   "cell_type": "code",
   "execution_count": 6,
   "id": "6ad5cc39-8dd5-4e8c-bc0d-476459ae4aa0",
   "metadata": {},
   "outputs": [
    {
     "name": "stdin",
     "output_type": "stream",
     "text": [
      "Enter your price of bike and know your road tax criteria : 30000\n"
     ]
    },
    {
     "name": "stdout",
     "output_type": "stream",
     "text": [
      "The Road Tax to be paid on the price  30000 is : 1500.0\n"
     ]
    }
   ],
   "source": [
    "price = int(input('Enter your price of bike and know your road tax criteria :'))\n",
    "prefix = f'The Road Tax to be paid on the price  {price} is :'\n",
    "if price<0:\n",
    "      print('invalid price')\n",
    "elif price<=50000:\n",
    "    print(prefix , price*0.05)       \n",
    "elif price>50000 and price<=100000:\n",
    "    print(prefix , price*0.10)       \n",
    "else:\n",
    "    print(prefix , price*0.15)  \n",
    "        "
   ]
  },
  {
   "cell_type": "markdown",
   "id": "6fda2bb5-bc2f-41a2-bcb8-a00895de0db3",
   "metadata": {},
   "source": [
    "Ans_3."
   ]
  },
  {
   "cell_type": "code",
   "execution_count": 16,
   "id": "23752cea-90d5-41d9-a9bf-19c3757c57ba",
   "metadata": {},
   "outputs": [
    {
     "name": "stdin",
     "output_type": "stream",
     "text": [
      "Enter the city\n",
      " [Delhi , agar , jaipur]: delHI\n"
     ]
    },
    {
     "name": "stdout",
     "output_type": "stream",
     "text": [
      "the Famous Monument is Red Fort \n"
     ]
    }
   ],
   "source": [
    "cities = ['delhi' , 'agar' , 'jaipur']\n",
    "monuments =['Red Fort ' , 'Taj Mahal' , 'Jai Mahal']\n",
    "city = input('Enter the city\\n [Delhi , agar , jaipur]:').lower()\n",
    "if not city in cities:\n",
    "    print('wrong city not in my database')\n",
    "else:\n",
    "    pos = 0 \n",
    "    for i in cities:\n",
    "        if i == city:\n",
    "            print('the Famous Monument is ' + monuments[pos])\n",
    "            break\n",
    "        pos +=1    "
   ]
  },
  {
   "cell_type": "markdown",
   "id": "881e1fcf-81d8-4833-a950-b6a99abb9606",
   "metadata": {},
   "source": [
    "Ans_4."
   ]
  },
  {
   "cell_type": "code",
   "execution_count": 24,
   "id": "afbe3ea5-19b8-4ef1-8d52-fb1a16c89e27",
   "metadata": {},
   "outputs": [
    {
     "name": "stdin",
     "output_type": "stream",
     "text": [
      "Enter the number to be checked 81\n"
     ]
    },
    {
     "name": "stdout",
     "output_type": "stream",
     "text": [
      "2\n"
     ]
    }
   ],
   "source": [
    "number = int(input('Enter the number to be checked'))\n",
    "def checknum(num):\n",
    "    if num<=10:\n",
    "        return 0\n",
    "    elif num%3 == 0:\n",
    "        return 1 + checknum(num/3)\n",
    "    else:\n",
    "        return 0\n",
    "if number < 0 :     \n",
    "    print(checknum(abs(number)))\n",
    "else:\n",
    "    print(checknum(number))"
   ]
  },
  {
   "cell_type": "markdown",
   "id": "70221167-c81e-441e-b0ac-bf66692d0de1",
   "metadata": {},
   "source": [
    "Ans_5."
   ]
  },
  {
   "cell_type": "markdown",
   "id": "0b6a4426-d859-491d-8a2f-5d9404391407",
   "metadata": {},
   "source": [
    "A while loop evaluates the condition. if it's true,the code inside the while loop is executed.\n",
    "Note that in case of while loop the indented body should modify at least one variable in the test condition else the result will be infinite loop.While loops are used when you need to operate on the elemnets Out of order ,acccess/operate simultaniously.In python programming language the while loop is usually used when the no of iteration is unknown(ex. Bubble sort which loops as long as the values aren't sorted ) and for loop is usually used when the no. of iterartion is known(ex. the lentgh of a list).\n"
   ]
  },
  {
   "cell_type": "code",
   "execution_count": null,
   "id": "c3f837e5-a114-4bb5-8e55-7f9866bb45c6",
   "metadata": {},
   "outputs": [],
   "source": [
    "while condition:\n",
    "    #run code until the condition evaluates to false"
   ]
  },
  {
   "cell_type": "code",
   "execution_count": null,
   "id": "9de10b5e-81a6-45cb-8f72-7f71d250d78c",
   "metadata": {},
   "outputs": [],
   "source": [
    "#this loop is iterated 4 time( 0 to 3)\n",
    "for i in range(4):\n",
    "    print(i)"
   ]
  },
  {
   "cell_type": "markdown",
   "id": "b5258a8d-96e7-48f4-8df3-4d3b336d9e8f",
   "metadata": {},
   "source": [
    "if you don't have tidy data structure to iterate through ,or you don't have a generator function that drives your processing ,you must use while.it is also useful where the break condition doesn't logically depend on any kind of sequence."
   ]
  },
  {
   "cell_type": "markdown",
   "id": "64fefc3e-9f0a-4c1f-be73-6849b2243222",
   "metadata": {},
   "source": [
    "\n",
    "Ans_6."
   ]
  },
  {
   "cell_type": "code",
   "execution_count": 55,
   "id": "dcc0e591-a9f5-4c9a-86a0-0d7f7816f3fc",
   "metadata": {},
   "outputs": [
    {
     "ename": "IndentationError",
     "evalue": "unindent does not match any outer indentation level (<tokenize>, line 17)",
     "output_type": "error",
     "traceback": [
      "\u001b[1;36m  File \u001b[1;32m\"<tokenize>\"\u001b[1;36m, line \u001b[1;32m17\u001b[0m\n\u001b[1;33m    i =1\u001b[0m\n\u001b[1;37m    ^\u001b[0m\n\u001b[1;31mIndentationError\u001b[0m\u001b[1;31m:\u001b[0m unindent does not match any outer indentation level\n"
     ]
    }
   ],
   "source": [
    "#pattern 1\n",
    "def triangle(n):\n",
    "    print('1 .Hollow Triangle :')\n",
    "    i = 1\n",
    "    while i <= n:\n",
    "        if i ==1:\n",
    "            print(\" \"*(n-i) + '*' )\n",
    "        elif i==n:\n",
    "            print('* ' * i)\n",
    "        else:\n",
    "            print(\" \"* (n-i) + '*' + ' '*(2*i-3) + '*')\n",
    "        i += 1    \n",
    "\n",
    "#pattern 2           \n",
    "def LeftPascalTriangle(n):\n",
    "       print('2 .Left Pascal Triangle :')\n",
    "    i =1\n",
    "    while i<n:\n",
    "        print(\" \"*(n-i) + '*'*i)\n",
    "        i += 1\n",
    "    \n",
    "    i = n \n",
    "    while i >= 1:\n",
    "        print(' '*(n-i) + '*'*i)\n",
    "        i -= 1\n",
    "\n",
    "#pattern 3\n",
    " def Diamond(n):\n",
    "              # print('3 .Diamond :')\n",
    "              i == 1\n",
    "                while i<n:    \n",
    "                   print(\" \"*(n-i) + '* '*i)  \n",
    "                   i + = 1\n",
    "        \n",
    "              i = n\n",
    "              while i>=1:\n",
    "                  print(\" \"*(n-i) + '* '*i) \n",
    "                  i -= 1\n",
    "            \n",
    "            \n",
    "row = int(input('Enter the No. of rows :'))\n",
    "if row < 1:\n",
    "    print('invalid row')\n",
    "triangle(row)        \n",
    "LeftPascalTriangle(row)  \n",
    "Diamond(row)"
   ]
  },
  {
   "cell_type": "code",
   "execution_count": 28,
   "id": "353e87ad-4d30-438e-812e-127e961f81c9",
   "metadata": {},
   "outputs": [
    {
     "name": "stdout",
     "output_type": "stream",
     "text": [
      "     *\n",
      "    **\n",
      "   ***\n",
      "  ****\n",
      " *****\n",
      "******\n"
     ]
    }
   ],
   "source": []
  },
  {
   "cell_type": "code",
   "execution_count": null,
   "id": "1bc6599f-e542-4b4b-bb0c-d5e38f5f105b",
   "metadata": {},
   "outputs": [],
   "source": []
  }
 ],
 "metadata": {
  "kernelspec": {
   "display_name": "Python 3 (ipykernel)",
   "language": "python",
   "name": "python3"
  },
  "language_info": {
   "codemirror_mode": {
    "name": "ipython",
    "version": 3
   },
   "file_extension": ".py",
   "mimetype": "text/x-python",
   "name": "python",
   "nbconvert_exporter": "python",
   "pygments_lexer": "ipython3",
   "version": "3.9.15"
  },
  "widgets": {
   "application/vnd.jupyter.widget-state+json": {
    "state": {},
    "version_major": 2,
    "version_minor": 0
   }
  }
 },
 "nbformat": 4,
 "nbformat_minor": 5
}
